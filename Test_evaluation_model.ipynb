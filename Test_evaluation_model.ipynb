{
 "cells": [
  {
   "cell_type": "markdown",
   "id": "afe648c9",
   "metadata": {},
   "source": [
    "## with backbone = 'resnet50'"
   ]
  },
  {
   "cell_type": "code",
   "execution_count": 1,
   "id": "e312b5aa",
   "metadata": {},
   "outputs": [
    {
     "name": "stdout",
     "output_type": "stream",
     "text": [
      "Database exists!\n",
      "Train/Val Tracks:  dict_keys(['video_id', 'ped_id', 'frame', 'bbox', 'intention_binary', 'intention_prob', 'disagree_score'])\n",
      "Train/Val Tracks:  dict_keys(['video_id', 'ped_id', 'frame', 'bbox', 'intention_binary', 'intention_prob', 'disagree_score'])\n",
      "Test Tracks:  dict_keys(['video_id', 'ped_id', 'frame', 'bbox', 'intention_binary', 'intention_prob', 'disagree_score'])\n",
      "dict_keys(['video_id', 'ped_id', 'frame', 'bbox', 'intention_binary', 'intention_prob', 'disagree_score'])\n",
      "dict_keys(['video_id', 'ped_id', 'frame', 'bbox', 'intention_binary', 'intention_prob', 'disagree_score'])\n",
      "dict_keys(['video_id', 'ped_id', 'frame', 'bbox', 'intention_binary', 'intention_prob', 'disagree_score'])\n",
      "26318 14567 0\n"
     ]
    },
    {
     "name": "stderr",
     "output_type": "stream",
     "text": [
      "C:\\Users\\Layla Kaabouche\\anaconda3\\Lib\\site-packages\\torchvision\\models\\_utils.py:208: UserWarning: The parameter 'pretrained' is deprecated since 0.13 and may be removed in the future, please use 'weights' instead.\n",
      "  warnings.warn(\n",
      "C:\\Users\\Layla Kaabouche\\anaconda3\\Lib\\site-packages\\torchvision\\models\\_utils.py:223: UserWarning: Arguments other than a weight enum or `None` for 'weights' are deprecated since 0.13 and may be removed in the future. The current behavior is equivalent to passing `weights=ResNet50_Weights.IMAGENET1K_V1`. You can also use `weights=ResNet50_Weights.DEFAULT` to get the most up-to-date weights.\n",
      "  warnings.warn(msg)\n"
     ]
    },
    {
     "name": "stdout",
     "output_type": "stream",
     "text": [
      "Epoch 1/1 | Batch 0/205 - loss_intent =  0.2595\n",
      "Epoch 1/1 | Batch 10/205 - loss_intent =  0.2602\n",
      "Epoch 1/1 | Batch 20/205 - loss_intent =  0.2567\n",
      "Epoch 1/1 | Batch 30/205 - loss_intent =  0.2558\n",
      "Epoch 1/1 | Batch 40/205 - loss_intent =  0.2550\n",
      "Epoch 1/1 | Batch 50/205 - loss_intent =  0.2551\n",
      "Epoch 1/1 | Batch 60/205 - loss_intent =  0.2539\n",
      "Epoch 1/1 | Batch 70/205 - loss_intent =  0.2535\n",
      "Epoch 1/1 | Batch 80/205 - loss_intent =  0.2531\n",
      "Epoch 1/1 | Batch 90/205 - loss_intent =  0.2527\n",
      "Epoch 1/1 | Batch 100/205 - loss_intent =  0.2527\n",
      "Epoch 1/1 | Batch 110/205 - loss_intent =  0.2528\n",
      "Epoch 1/1 | Batch 120/205 - loss_intent =  0.2532\n",
      "Epoch 1/1 | Batch 130/205 - loss_intent =  0.2525\n",
      "Epoch 1/1 | Batch 140/205 - loss_intent =  0.2517\n",
      "Epoch 1/1 | Batch 150/205 - loss_intent =  0.2515\n",
      "Epoch 1/1 | Batch 160/205 - loss_intent =  0.2519\n",
      "Epoch 1/1 | Batch 170/205 - loss_intent =  0.2516\n",
      "Epoch 1/1 | Batch 180/205 - loss_intent =  0.2514\n",
      "Epoch 1/1 | Batch 190/205 - loss_intent =  0.2508\n",
      "Epoch 1/1 | Batch 200/205 - loss_intent =  0.2507\n",
      "----------- Training results: ------------------------------------ \n",
      "Evaluating Intent ...\n",
      "----------------------------------------------------------- \n",
      "Train epoch 1/1 | epoch loss: loss_intent =  0.2505\n",
      "Validate at epoch 1\n"
     ]
    },
    {
     "name": "stderr",
     "output_type": "stream",
     "text": [
      "C:\\Users\\Layla Kaabouche\\anaconda3\\Lib\\site-packages\\torchvision\\models\\_utils.py:208: UserWarning: The parameter 'pretrained' is deprecated since 0.13 and may be removed in the future, please use 'weights' instead.\n",
      "  warnings.warn(\n",
      "C:\\Users\\Layla Kaabouche\\anaconda3\\Lib\\site-packages\\torchvision\\models\\_utils.py:223: UserWarning: Arguments other than a weight enum or `None` for 'weights' are deprecated since 0.13 and may be removed in the future. The current behavior is equivalent to passing `weights=ResNet50_Weights.IMAGENET1K_V1`. You can also use `weights=ResNet50_Weights.DEFAULT` to get the most up-to-date weights.\n",
      "  warnings.warn(msg)\n"
     ]
    },
    {
     "name": "stdout",
     "output_type": "stream",
     "text": [
      "Epoch 1/1 | Batch 0/114\n",
      "Epoch 1/1 | Batch 10/114\n",
      "Epoch 1/1 | Batch 20/114\n",
      "Epoch 1/1 | Batch 30/114\n",
      "Epoch 1/1 | Batch 40/114\n",
      "Epoch 1/1 | Batch 50/114\n",
      "Epoch 1/1 | Batch 60/114\n",
      "Epoch 1/1 | Batch 70/114\n",
      "Epoch 1/1 | Batch 80/114\n",
      "Epoch 1/1 | Batch 90/114\n",
      "Epoch 1/1 | Batch 100/114\n",
      "Epoch 1/1 | Batch 110/114\n",
      "----------- Evaluate results: ------------------------------------ \n",
      "Evaluating Intent ...\n",
      "----------------------finished evalcal------------------------------------- \n",
      "log info finished\n"
     ]
    },
    {
     "name": "stderr",
     "output_type": "stream",
     "text": [
      "C:\\Users\\Layla Kaabouche\\anaconda3\\Lib\\site-packages\\torchvision\\models\\_utils.py:208: UserWarning: The parameter 'pretrained' is deprecated since 0.13 and may be removed in the future, please use 'weights' instead.\n",
      "  warnings.warn(\n",
      "C:\\Users\\Layla Kaabouche\\anaconda3\\Lib\\site-packages\\torchvision\\models\\_utils.py:223: UserWarning: Arguments other than a weight enum or `None` for 'weights' are deprecated since 0.13 and may be removed in the future. The current behavior is equivalent to passing `weights=ResNet50_Weights.IMAGENET1K_V1`. You can also use `weights=ResNet50_Weights.DEFAULT` to get the most up-to-date weights.\n",
      "  warnings.warn(msg)\n"
     ]
    },
    {
     "name": "stdout",
     "output_type": "stream",
     "text": [
      "Evaluating Intent ...\n",
      "MSE:  0.35422530376879247\n",
      "Acc:  0.6457746962312075\n",
      "F1:  0.602122762317291\n",
      "Precision:  0.8458338285985975\n",
      "Recall:  0.6481464614263595\n",
      "mAcc:  0.6433318706239936\n",
      "ConfusionMatrix:  [[2291 1297]\n",
      " [3863 7116]]\n"
     ]
    }
   ],
   "source": [
    "%run main.py"
   ]
  },
  {
   "cell_type": "markdown",
   "id": "f69b0ed7",
   "metadata": {},
   "source": [
    "\n",
    "->MSE (Mean Squared Error) : Une MSE de 0.35 indique une certaine erreur moyenne entre les valeurs prédites et les valeurs réelles. Plus la MSE est proche de zéro, meilleure est la performance du modèle.\n",
    "\n",
    "->Acc (Accuracy) : L'exactitude de 0.65 signifie que le modèle a correctement classé environ 65% des exemples. C'est un indicateur global de la performance du modèle, mais il ne donne pas d'informations détaillées sur la performance par classe.\n",
    "\n",
    "->F1 Score : Le score F1 de 0.60 est une mesure de la précision et du rappel du modèle. Il est utile lorsque les classes sont déséquilibrées, ce qui semble être le cas ici.\n",
    "\n",
    "->Precision : Une précision de 0.84 indique que parmi les prédictions positives du modèle, environ 84% sont réellement positives.\n",
    "\n",
    "->Recall : Un rappel de 0.65 signifie que le modèle a réussi à identifier environ 65% des vrais positifs dans l'ensemble de données.\n",
    "\n",
    "->mAcc (Mean Accuracy) : La moyenne de l'exactitude pour chaque classe est de 0.64. Cela donne une indication de la performance du modèle en tenant compte du déséquilibre de classe."
   ]
  },
  {
   "cell_type": "markdown",
   "id": "c8714b12",
   "metadata": {},
   "source": [
    "## with backbone = vgg16 "
   ]
  },
  {
   "cell_type": "code",
   "execution_count": 1,
   "id": "c0eb8056",
   "metadata": {},
   "outputs": [
    {
     "name": "stdout",
     "output_type": "stream",
     "text": [
      "Database exists!\n",
      "Train/Val Tracks:  dict_keys(['video_id', 'ped_id', 'frame', 'bbox', 'intention_binary', 'intention_prob', 'disagree_score'])\n",
      "Train/Val Tracks:  dict_keys(['video_id', 'ped_id', 'frame', 'bbox', 'intention_binary', 'intention_prob', 'disagree_score'])\n",
      "Test Tracks:  dict_keys(['video_id', 'ped_id', 'frame', 'bbox', 'intention_binary', 'intention_prob', 'disagree_score'])\n",
      "dict_keys(['video_id', 'ped_id', 'frame', 'bbox', 'intention_binary', 'intention_prob', 'disagree_score'])\n",
      "dict_keys(['video_id', 'ped_id', 'frame', 'bbox', 'intention_binary', 'intention_prob', 'disagree_score'])\n",
      "dict_keys(['video_id', 'ped_id', 'frame', 'bbox', 'intention_binary', 'intention_prob', 'disagree_score'])\n",
      "26318 14567 0\n",
      "Epoch 1/1 | Batch 0/205 - loss_intent =  0.2418\n",
      "Epoch 1/1 | Batch 10/205 - loss_intent =  0.2540\n",
      "Epoch 1/1 | Batch 20/205 - loss_intent =  0.2578\n",
      "Epoch 1/1 | Batch 30/205 - loss_intent =  0.2576\n",
      "Epoch 1/1 | Batch 40/205 - loss_intent =  0.2560\n",
      "Epoch 1/1 | Batch 50/205 - loss_intent =  0.2539\n",
      "Epoch 1/1 | Batch 60/205 - loss_intent =  0.2545\n",
      "Epoch 1/1 | Batch 70/205 - loss_intent =  0.2551\n",
      "Epoch 1/1 | Batch 80/205 - loss_intent =  0.2545\n",
      "Epoch 1/1 | Batch 90/205 - loss_intent =  0.2549\n",
      "Epoch 1/1 | Batch 100/205 - loss_intent =  0.2542\n",
      "Epoch 1/1 | Batch 110/205 - loss_intent =  0.2535\n",
      "Epoch 1/1 | Batch 120/205 - loss_intent =  0.2532\n",
      "Epoch 1/1 | Batch 130/205 - loss_intent =  0.2531\n",
      "Epoch 1/1 | Batch 140/205 - loss_intent =  0.2527\n",
      "Epoch 1/1 | Batch 150/205 - loss_intent =  0.2522\n",
      "Epoch 1/1 | Batch 160/205 - loss_intent =  0.2517\n",
      "Epoch 1/1 | Batch 170/205 - loss_intent =  0.2515\n",
      "Epoch 1/1 | Batch 180/205 - loss_intent =  0.2508\n",
      "Epoch 1/1 | Batch 190/205 - loss_intent =  0.2507\n",
      "Epoch 1/1 | Batch 200/205 - loss_intent =  0.2508\n",
      "----------- Training results: ------------------------------------ \n",
      "Evaluating Intent ...\n",
      "----------------------------------------------------------- \n",
      "Train epoch 1/1 | epoch loss: loss_intent =  0.2507\n",
      "Validate at epoch 1\n",
      "Epoch 1/1 | Batch 0/114\n",
      "Epoch 1/1 | Batch 10/114\n",
      "Epoch 1/1 | Batch 20/114\n",
      "Epoch 1/1 | Batch 30/114\n",
      "Epoch 1/1 | Batch 40/114\n",
      "Epoch 1/1 | Batch 50/114\n",
      "Epoch 1/1 | Batch 60/114\n",
      "Epoch 1/1 | Batch 70/114\n",
      "Epoch 1/1 | Batch 80/114\n",
      "Epoch 1/1 | Batch 90/114\n",
      "Epoch 1/1 | Batch 100/114\n",
      "Epoch 1/1 | Batch 110/114\n",
      "----------- Evaluate results: ------------------------------------ \n",
      "Evaluating Intent ...\n",
      "----------------------finished evalcal------------------------------------- \n",
      "log info finished\n",
      "Evaluating Intent ...\n",
      "MSE:  0.46687718816503054\n",
      "Acc:  0.5331228118349695\n",
      "F1:  0.5186015109317481\n",
      "Precision:  0.8414514547237659\n",
      "Recall:  0.468895163493943\n",
      "mAcc:  0.5992747835306951\n",
      "ConfusionMatrix:  [[2618  970]\n",
      " [5831 5148]]\n"
     ]
    }
   ],
   "source": [
    "%run main.py"
   ]
  },
  {
   "cell_type": "markdown",
   "id": "d9b7d40c",
   "metadata": {},
   "source": [
    "# Their parameters"
   ]
  },
  {
   "cell_type": "code",
   "execution_count": 1,
   "id": "1375b3c0",
   "metadata": {},
   "outputs": [
    {
     "name": "stdout",
     "output_type": "stream",
     "text": [
      "Database exists!\n",
      "Train/Val Tracks:  dict_keys(['video_id', 'ped_id', 'frame', 'bbox', 'intention_binary', 'intention_prob', 'disagree_score'])\n",
      "Train/Val Tracks:  dict_keys(['video_id', 'ped_id', 'frame', 'bbox', 'intention_binary', 'intention_prob', 'disagree_score'])\n",
      "Test Tracks:  dict_keys(['video_id', 'ped_id', 'frame', 'bbox', 'intention_binary', 'intention_prob', 'disagree_score'])\n",
      "dict_keys(['video_id', 'ped_id', 'frame', 'bbox', 'intention_binary', 'intention_prob', 'disagree_score'])\n",
      "dict_keys(['video_id', 'ped_id', 'frame', 'bbox', 'intention_binary', 'intention_prob', 'disagree_score'])\n",
      "dict_keys(['video_id', 'ped_id', 'frame', 'bbox', 'intention_binary', 'intention_prob', 'disagree_score'])\n",
      "26318 14567 0\n",
      "Epoch 1/1 | Batch 0/205 - loss_intent =  0.2739\n",
      "Epoch 1/1 | Batch 10/205 - loss_intent =  0.2698\n",
      "Epoch 1/1 | Batch 20/205 - loss_intent =  0.2617\n",
      "Epoch 1/1 | Batch 30/205 - loss_intent =  0.2613\n",
      "Epoch 1/1 | Batch 40/205 - loss_intent =  0.2587\n",
      "Epoch 1/1 | Batch 50/205 - loss_intent =  0.2570\n",
      "Epoch 1/1 | Batch 60/205 - loss_intent =  0.2541\n",
      "Epoch 1/1 | Batch 70/205 - loss_intent =  0.2524\n",
      "Epoch 1/1 | Batch 80/205 - loss_intent =  0.2517\n",
      "Epoch 1/1 | Batch 90/205 - loss_intent =  0.2509\n",
      "Epoch 1/1 | Batch 100/205 - loss_intent =  0.2504\n",
      "Epoch 1/1 | Batch 110/205 - loss_intent =  0.2501\n",
      "Epoch 1/1 | Batch 120/205 - loss_intent =  0.2492\n",
      "Epoch 1/1 | Batch 130/205 - loss_intent =  0.2489\n",
      "Epoch 1/1 | Batch 140/205 - loss_intent =  0.2485\n",
      "Epoch 1/1 | Batch 150/205 - loss_intent =  0.2485\n",
      "Epoch 1/1 | Batch 160/205 - loss_intent =  0.2479\n",
      "Epoch 1/1 | Batch 170/205 - loss_intent =  0.2472\n",
      "Epoch 1/1 | Batch 180/205 - loss_intent =  0.2474\n",
      "Epoch 1/1 | Batch 190/205 - loss_intent =  0.2471\n",
      "Epoch 1/1 | Batch 200/205 - loss_intent =  0.2470\n",
      "----------- Training results: ------------------------------------ \n",
      "Evaluating Intent ...\n",
      "----------------------------------------------------------- \n",
      "Train epoch 1/1 | epoch loss: loss_intent =  0.2466\n",
      "Validate at epoch 1\n",
      "Epoch 1/1 | Batch 0/114\n",
      "Epoch 1/1 | Batch 10/114\n",
      "Epoch 1/1 | Batch 20/114\n",
      "Epoch 1/1 | Batch 30/114\n",
      "Epoch 1/1 | Batch 40/114\n",
      "Epoch 1/1 | Batch 50/114\n",
      "Epoch 1/1 | Batch 60/114\n",
      "Epoch 1/1 | Batch 70/114\n",
      "Epoch 1/1 | Batch 80/114\n",
      "Epoch 1/1 | Batch 90/114\n",
      "Epoch 1/1 | Batch 100/114\n",
      "Epoch 1/1 | Batch 110/114\n",
      "----------- Evaluate results: ------------------------------------ \n",
      "Evaluating Intent ...\n",
      "----------------------finished evalcal------------------------------------- \n",
      "log info finished\n",
      "Evaluating Intent ...\n",
      "MSE:  0.49406192077984484\n",
      "Acc:  0.5059380792201551\n",
      "F1:  0.5003538433715393\n",
      "Precision:  0.8687597503900156\n",
      "Recall:  0.40577466071591217\n",
      "mAcc:  0.6091024920079003\n",
      "ConfusionMatrix:  [[2915  673]\n",
      " [6524 4455]]\n"
     ]
    }
   ],
   "source": [
    "%run main.py"
   ]
  },
  {
   "cell_type": "markdown",
   "id": "5cd54476",
   "metadata": {},
   "source": [
    "# 3 classes (Cross | Not Cross | Not Sure)"
   ]
  },
  {
   "cell_type": "code",
   "execution_count": 1,
   "id": "f75ec022",
   "metadata": {},
   "outputs": [
    {
     "name": "stdout",
     "output_type": "stream",
     "text": [
      "Database exists!\n",
      "Train/Val Tracks:  dict_keys(['video_id', 'ped_id', 'frame', 'bbox', 'intention_binary', 'intention_prob', 'disagree_score'])\n",
      "Train/Val Tracks:  dict_keys(['video_id', 'ped_id', 'frame', 'bbox', 'intention_binary', 'intention_prob', 'disagree_score'])\n",
      "Test Tracks:  dict_keys(['video_id', 'ped_id', 'frame', 'bbox', 'intention_binary', 'intention_prob', 'disagree_score'])\n",
      "dict_keys(['video_id', 'ped_id', 'frame', 'bbox', 'intention_binary', 'intention_prob', 'disagree_score'])\n",
      "dict_keys(['video_id', 'ped_id', 'frame', 'bbox', 'intention_binary', 'intention_prob', 'disagree_score'])\n",
      "dict_keys(['video_id', 'ped_id', 'frame', 'bbox', 'intention_binary', 'intention_prob', 'disagree_score'])\n",
      "26318 14567 0\n",
      "Epoch 1/1 | Batch 0/205 - loss_intent =  709.1062\n",
      "Epoch 1/1 | Batch 10/205 - loss_intent =  715.9484\n",
      "Epoch 1/1 | Batch 20/205 - loss_intent =  718.4641\n",
      "Epoch 1/1 | Batch 30/205 - loss_intent =  725.9269\n",
      "Epoch 1/1 | Batch 40/205 - loss_intent =  724.3789\n",
      "Epoch 1/1 | Batch 50/205 - loss_intent =  725.0493\n",
      "Epoch 1/1 | Batch 60/205 - loss_intent =  726.8284\n",
      "Epoch 1/1 | Batch 70/205 - loss_intent =  727.7885\n",
      "Epoch 1/1 | Batch 80/205 - loss_intent =  728.5738\n",
      "Epoch 1/1 | Batch 90/205 - loss_intent =  731.4310\n",
      "Epoch 1/1 | Batch 100/205 - loss_intent =  732.5772\n",
      "Epoch 1/1 | Batch 110/205 - loss_intent =  732.8126\n",
      "Epoch 1/1 | Batch 120/205 - loss_intent =  732.7086\n",
      "Epoch 1/1 | Batch 130/205 - loss_intent =  733.2078\n",
      "Epoch 1/1 | Batch 140/205 - loss_intent =  733.7848\n",
      "Epoch 1/1 | Batch 150/205 - loss_intent =  734.5776\n",
      "Epoch 1/1 | Batch 160/205 - loss_intent =  734.9467\n",
      "Epoch 1/1 | Batch 170/205 - loss_intent =  734.8973\n",
      "Epoch 1/1 | Batch 180/205 - loss_intent =  732.3016\n",
      "Epoch 1/1 | Batch 190/205 - loss_intent =  732.0343\n",
      "Epoch 1/1 | Batch 200/205 - loss_intent =  732.4612\n",
      "----------- Training results: ------------------------------------ \n",
      "Evaluating Intent ...\n",
      "----------------------------------------------------------- \n",
      "Train epoch 1/1 | epoch loss: loss_intent =  731.5889\n",
      "Validate at epoch 1\n"
     ]
    },
    {
     "name": "stderr",
     "output_type": "stream",
     "text": [
      "C:\\Users\\Layla Kaabouche\\anaconda3\\Lib\\site-packages\\sklearn\\metrics\\_classification.py:1469: UndefinedMetricWarning: Precision is ill-defined and being set to 0.0 in labels with no predicted samples. Use `zero_division` parameter to control this behavior.\n",
      "  _warn_prf(average, modifier, msg_start, len(result))\n"
     ]
    },
    {
     "name": "stdout",
     "output_type": "stream",
     "text": [
      "Epoch 1/1 | Batch 0/114\n",
      "Epoch 1/1 | Batch 10/114\n",
      "Epoch 1/1 | Batch 20/114\n",
      "Epoch 1/1 | Batch 30/114\n",
      "Epoch 1/1 | Batch 40/114\n",
      "Epoch 1/1 | Batch 50/114\n",
      "Epoch 1/1 | Batch 60/114\n",
      "Epoch 1/1 | Batch 70/114\n",
      "Epoch 1/1 | Batch 80/114\n",
      "Epoch 1/1 | Batch 90/114\n",
      "Epoch 1/1 | Batch 100/114\n",
      "Epoch 1/1 | Batch 110/114\n",
      "----------- Evaluate results: ------------------------------------ \n",
      "Evaluating Intent ...\n",
      "----------------------finished evalcal------------------------------------- \n",
      "log info finished\n"
     ]
    },
    {
     "name": "stderr",
     "output_type": "stream",
     "text": [
      "C:\\Users\\Layla Kaabouche\\anaconda3\\Lib\\site-packages\\sklearn\\metrics\\_classification.py:1469: UndefinedMetricWarning: Precision is ill-defined and being set to 0.0 in labels with no predicted samples. Use `zero_division` parameter to control this behavior.\n",
      "  _warn_prf(average, modifier, msg_start, len(result))\n"
     ]
    },
    {
     "name": "stdout",
     "output_type": "stream",
     "text": [
      "Evaluating Intent ...\n"
     ]
    },
    {
     "name": "stderr",
     "output_type": "stream",
     "text": [
      "C:\\Users\\Layla Kaabouche\\anaconda3\\Lib\\site-packages\\sklearn\\metrics\\_classification.py:1469: UndefinedMetricWarning: Precision is ill-defined and being set to 0.0 in labels with no predicted samples. Use `zero_division` parameter to control this behavior.\n",
      "  _warn_prf(average, modifier, msg_start, len(result))\n"
     ]
    },
    {
     "name": "stdout",
     "output_type": "stream",
     "text": [
      "MSE:  1.3588933891672959\n",
      "Acc:  0.25544037893869703\n",
      "F1:  0.245730669227614\n",
      "Precision:  0.1762461463745749\n",
      "Recall:  0.41939011794705405\n",
      "mAcc:  0.41939011794705405\n",
      "ConfusionMatrix: \n",
      "+-----------+-------------+------------+---------+\n",
      "|           |   not_cross |   not_sure |   cross |\n",
      "+===========+=============+============+=========+\n",
      "| not_cross |        1746 |       1212 |       0 |\n",
      "+-----------+-------------+------------+---------+\n",
      "| not_sure  |         982 |       1975 |       0 |\n",
      "+-----------+-------------+------------+---------+\n",
      "| cross     |        2983 |       5669 |       0 |\n",
      "+-----------+-------------+------------+---------+\n"
     ]
    }
   ],
   "source": [
    "%run main.py"
   ]
  },
  {
   "cell_type": "code",
   "execution_count": 1,
   "id": "9560cac8",
   "metadata": {},
   "outputs": [
    {
     "name": "stdout",
     "output_type": "stream",
     "text": [
      "Database exists!\n",
      "Train/Val Tracks:  dict_keys(['video_id', 'ped_id', 'frame', 'bbox', 'intention_binary', 'intention_prob', 'disagree_score'])\n",
      "Train/Val Tracks:  dict_keys(['video_id', 'ped_id', 'frame', 'bbox', 'intention_binary', 'intention_prob', 'disagree_score'])\n",
      "Test Tracks:  dict_keys(['video_id', 'ped_id', 'frame', 'bbox', 'intention_binary', 'intention_prob', 'disagree_score'])\n",
      "dict_keys(['video_id', 'ped_id', 'frame', 'bbox', 'intention_binary', 'intention_prob', 'disagree_score'])\n",
      "dict_keys(['video_id', 'ped_id', 'frame', 'bbox', 'intention_binary', 'intention_prob', 'disagree_score'])\n",
      "dict_keys(['video_id', 'ped_id', 'frame', 'bbox', 'intention_binary', 'intention_prob', 'disagree_score'])\n",
      "26318 14567 0\n",
      "Epoch 1/1 | Batch 0/205 - loss_intent =  1.1804\n",
      "Epoch 1/1 | Batch 10/205 - loss_intent =  1.1498\n",
      "Epoch 1/1 | Batch 20/205 - loss_intent =  1.1294\n",
      "Epoch 1/1 | Batch 30/205 - loss_intent =  1.1134\n",
      "Epoch 1/1 | Batch 40/205 - loss_intent =  1.1062\n",
      "Epoch 1/1 | Batch 50/205 - loss_intent =  1.0993\n",
      "Epoch 1/1 | Batch 60/205 - loss_intent =  1.0941\n",
      "Epoch 1/1 | Batch 70/205 - loss_intent =  1.0904\n",
      "Epoch 1/1 | Batch 80/205 - loss_intent =  1.0865\n",
      "Epoch 1/1 | Batch 90/205 - loss_intent =  1.0839\n",
      "Epoch 1/1 | Batch 100/205 - loss_intent =  1.0812\n",
      "Epoch 1/1 | Batch 110/205 - loss_intent =  1.0795\n",
      "Epoch 1/1 | Batch 120/205 - loss_intent =  1.0782\n",
      "Epoch 1/1 | Batch 130/205 - loss_intent =  1.0767\n",
      "Epoch 1/1 | Batch 140/205 - loss_intent =  1.0751\n",
      "Epoch 1/1 | Batch 150/205 - loss_intent =  1.0736\n",
      "Epoch 1/1 | Batch 160/205 - loss_intent =  1.0713\n",
      "Epoch 1/1 | Batch 170/205 - loss_intent =  1.0699\n",
      "Epoch 1/1 | Batch 180/205 - loss_intent =  1.0681\n",
      "Epoch 1/1 | Batch 190/205 - loss_intent =  1.0669\n",
      "Epoch 1/1 | Batch 200/205 - loss_intent =  1.0652\n",
      "----------- Training results: ------------------------------------ \n",
      "intention_gt type: <class 'list'>, shape: (26240,)\n",
      "intention_prob_gt type: <class 'list'>, shape: (26240, 3)\n",
      "intention_pred type: <class 'list'>, shape: (26240, 3)\n",
      "lbl_target shape: (26240,)\n",
      "lbl_target_prob shape: (26240, 3)\n",
      "lbl_pred shape: (26240, 3)\n",
      "Evaluating Intent ...\n"
     ]
    },
    {
     "ename": "ValueError",
     "evalue": "Les dimensions de target_prob et prediction ne sont pas cohérentes.",
     "output_type": "error",
     "traceback": [
      "\u001b[1;31m---------------------------------------------------------------------------\u001b[0m",
      "\u001b[1;31mValueError\u001b[0m                                Traceback (most recent call last)",
      "File \u001b[1;32m~\\Desktop\\PSI-Intent-Prediction-main\\main.py:127\u001b[0m\n\u001b[0;32m    124\u001b[0m \u001b[38;5;28;01mif\u001b[39;00m \u001b[38;5;129;01mnot\u001b[39;00m os\u001b[38;5;241m.\u001b[39mpath\u001b[38;5;241m.\u001b[39misdir(result_path):\n\u001b[0;32m    125\u001b[0m     os\u001b[38;5;241m.\u001b[39mmakedirs(result_path)\n\u001b[1;32m--> 127\u001b[0m main(args)\n",
      "File \u001b[1;32m~\\Desktop\\PSI-Intent-Prediction-main\\main.py:32\u001b[0m, in \u001b[0;36mmain\u001b[1;34m(args)\u001b[0m\n\u001b[0;32m     29\u001b[0m model \u001b[38;5;241m=\u001b[39m nn\u001b[38;5;241m.\u001b[39mDataParallel(model)\n\u001b[0;32m     31\u001b[0m \u001b[38;5;250m\u001b[39m\u001b[38;5;124;03m''' 3. Train '''\u001b[39;00m\n\u001b[1;32m---> 32\u001b[0m train_intent(model, optimizer, scheduler, train_loader, val_loader, args, recorder, writer)\n\u001b[0;32m     34\u001b[0m val_gt_file \u001b[38;5;241m=\u001b[39m \u001b[38;5;124m'\u001b[39m\u001b[38;5;124m./test_gt/val_intent_gt.json\u001b[39m\u001b[38;5;124m'\u001b[39m\n\u001b[0;32m     36\u001b[0m \u001b[38;5;66;03m# Supprimer le fichier val_intent_gt existant s'il est présent\u001b[39;00m\n",
      "File \u001b[1;32m~\\Desktop\\PSI-Intent-Prediction-main\\train.py:26\u001b[0m, in \u001b[0;36mtrain_intent\u001b[1;34m(model, optimizer, scheduler, train_loader, val_loader, args, recorder, writer)\u001b[0m\n\u001b[0;32m     24\u001b[0m niters \u001b[38;5;241m=\u001b[39m \u001b[38;5;28mlen\u001b[39m(train_loader)\n\u001b[0;32m     25\u001b[0m recorder\u001b[38;5;241m.\u001b[39mtrain_epoch_reset(epoch, niters)\n\u001b[1;32m---> 26\u001b[0m epoch_loss \u001b[38;5;241m=\u001b[39m train_intent_epoch(epoch, model, optimizer, criterions, epoch_loss, train_loader, args, recorder, writer)\n\u001b[0;32m     27\u001b[0m scheduler\u001b[38;5;241m.\u001b[39mstep()\n\u001b[0;32m     29\u001b[0m \u001b[38;5;28;01mif\u001b[39;00m epoch \u001b[38;5;241m%\u001b[39m \u001b[38;5;241m1\u001b[39m \u001b[38;5;241m==\u001b[39m \u001b[38;5;241m0\u001b[39m:\n",
      "File \u001b[1;32m~\\Desktop\\PSI-Intent-Prediction-main\\train.py:115\u001b[0m, in \u001b[0;36mtrain_intent_epoch\u001b[1;34m(epoch, model, optimizer, criterions, epoch_loss, dataloader, args, recorder, writer)\u001b[0m\n\u001b[0;32m    108\u001b[0m     recorder\u001b[38;5;241m.\u001b[39mtrain_intent_batch_update(itern, data, gt_intent\u001b[38;5;241m.\u001b[39mdetach()\u001b[38;5;241m.\u001b[39mcpu()\u001b[38;5;241m.\u001b[39mnumpy(),\n\u001b[0;32m    109\u001b[0m                                        gt_intent_prob\u001b[38;5;241m.\u001b[39mdetach()\u001b[38;5;241m.\u001b[39mcpu()\u001b[38;5;241m.\u001b[39mnumpy(),\n\u001b[0;32m    110\u001b[0m                                        intent_prob\u001b[38;5;241m.\u001b[39mdetach()\u001b[38;5;241m.\u001b[39mcpu()\u001b[38;5;241m.\u001b[39mnumpy(),\n\u001b[0;32m    111\u001b[0m                                        loss\u001b[38;5;241m.\u001b[39mitem(), loss_intent\u001b[38;5;241m.\u001b[39mitem())\n\u001b[0;32m    113\u001b[0m epoch_loss[\u001b[38;5;124m'\u001b[39m\u001b[38;5;124mloss_intent\u001b[39m\u001b[38;5;124m'\u001b[39m]\u001b[38;5;241m.\u001b[39mappend(np\u001b[38;5;241m.\u001b[39mmean(batch_losses[\u001b[38;5;124m'\u001b[39m\u001b[38;5;124mloss_intent\u001b[39m\u001b[38;5;124m'\u001b[39m]))\n\u001b[1;32m--> 115\u001b[0m recorder\u001b[38;5;241m.\u001b[39mtrain_intent_epoch_calculate(writer)\n\u001b[0;32m    116\u001b[0m \u001b[38;5;66;03m# write scalar to tensorboard\u001b[39;00m\n\u001b[0;32m    117\u001b[0m writer\u001b[38;5;241m.\u001b[39madd_scalar(\u001b[38;5;124mf\u001b[39m\u001b[38;5;124m'\u001b[39m\u001b[38;5;124mLearningRate\u001b[39m\u001b[38;5;124m'\u001b[39m, optimizer\u001b[38;5;241m.\u001b[39mparam_groups[\u001b[38;5;241m-\u001b[39m\u001b[38;5;241m1\u001b[39m][\u001b[38;5;124m'\u001b[39m\u001b[38;5;124mlr\u001b[39m\u001b[38;5;124m'\u001b[39m], epoch)\n",
      "File \u001b[1;32m~\\Desktop\\PSI-Intent-Prediction-main\\utils\\log.py:82\u001b[0m, in \u001b[0;36mRecordResults.train_intent_epoch_calculate\u001b[1;34m(self, writer)\u001b[0m\n\u001b[0;32m     79\u001b[0m \u001b[38;5;28mprint\u001b[39m(\u001b[38;5;124mf\u001b[39m\u001b[38;5;124m\"\u001b[39m\u001b[38;5;124mlbl_target_prob shape: \u001b[39m\u001b[38;5;132;01m{\u001b[39;00mlbl_target_prob\u001b[38;5;241m.\u001b[39mshape\u001b[38;5;132;01m}\u001b[39;00m\u001b[38;5;124m\"\u001b[39m)\n\u001b[0;32m     80\u001b[0m \u001b[38;5;28mprint\u001b[39m(\u001b[38;5;124mf\u001b[39m\u001b[38;5;124m\"\u001b[39m\u001b[38;5;124mlbl_pred shape: \u001b[39m\u001b[38;5;132;01m{\u001b[39;00mlbl_pred\u001b[38;5;241m.\u001b[39mshape\u001b[38;5;132;01m}\u001b[39;00m\u001b[38;5;124m\"\u001b[39m)\n\u001b[1;32m---> 82\u001b[0m intent_results \u001b[38;5;241m=\u001b[39m evaluate_intent(lbl_target, lbl_target_prob, lbl_pred, \u001b[38;5;28mself\u001b[39m\u001b[38;5;241m.\u001b[39margs)\n\u001b[0;32m     83\u001b[0m \u001b[38;5;28mself\u001b[39m\u001b[38;5;241m.\u001b[39mtrain_epoch_results[\u001b[38;5;124m'\u001b[39m\u001b[38;5;124mintent_results\u001b[39m\u001b[38;5;124m'\u001b[39m] \u001b[38;5;241m=\u001b[39m intent_results\n\u001b[0;32m     85\u001b[0m \u001b[38;5;28;01mif\u001b[39;00m \u001b[38;5;124m'\u001b[39m\u001b[38;5;124mConfusionMatrix\u001b[39m\u001b[38;5;124m'\u001b[39m \u001b[38;5;129;01min\u001b[39;00m intent_results:\n\u001b[0;32m     86\u001b[0m     \u001b[38;5;66;03m# Vérifier les dimensions de la matrice de confusion\u001b[39;00m\n",
      "File \u001b[1;32m~\\Desktop\\PSI-Intent-Prediction-main\\utils\\metrics.py:38\u001b[0m, in \u001b[0;36mevaluate_intent\u001b[1;34m(target, target_prob, prediction, args)\u001b[0m\n\u001b[0;32m     36\u001b[0m \u001b[38;5;66;03m# Vérifier si les dimensions de target_prob et prediction sont cohérentes\u001b[39;00m\n\u001b[0;32m     37\u001b[0m \u001b[38;5;28;01mif\u001b[39;00m target_prob\u001b[38;5;241m.\u001b[39mshape \u001b[38;5;241m!=\u001b[39m prediction\u001b[38;5;241m.\u001b[39mshape:\n\u001b[1;32m---> 38\u001b[0m     \u001b[38;5;28;01mraise\u001b[39;00m \u001b[38;5;167;01mValueError\u001b[39;00m(\u001b[38;5;124m\"\u001b[39m\u001b[38;5;124mLes dimensions de target_prob et prediction ne sont pas cohérentes.\u001b[39m\u001b[38;5;124m\"\u001b[39m)\n\u001b[0;32m     39\u001b[0m \u001b[38;5;66;03m# Convert probabilities to hard labels using 0.5 threshold\u001b[39;00m\n\u001b[0;32m     40\u001b[0m lbl_pred \u001b[38;5;241m=\u001b[39m np\u001b[38;5;241m.\u001b[39mround(prediction)\u001b[38;5;241m.\u001b[39mastype(\u001b[38;5;28mint\u001b[39m)  \u001b[38;5;66;03m# Use 0.5 as threshold\u001b[39;00m\n",
      "\u001b[1;31mValueError\u001b[0m: Les dimensions de target_prob et prediction ne sont pas cohérentes."
     ]
    }
   ],
   "source": [
    "%run main.py"
   ]
  },
  {
   "cell_type": "markdown",
   "id": "890dcf2f",
   "metadata": {},
   "source": [
    "DIstribution des classes a savoir -----> faite \n",
    "3 classes  ----------------------------> \n",
    "1 ere version de dataset --------------> faite"
   ]
  }
 ],
 "metadata": {
  "kernelspec": {
   "display_name": "Python 3 (ipykernel)",
   "language": "python",
   "name": "python3"
  },
  "language_info": {
   "codemirror_mode": {
    "name": "ipython",
    "version": 3
   },
   "file_extension": ".py",
   "mimetype": "text/x-python",
   "name": "python",
   "nbconvert_exporter": "python",
   "pygments_lexer": "ipython3",
   "version": "3.11.5"
  }
 },
 "nbformat": 4,
 "nbformat_minor": 5
}
